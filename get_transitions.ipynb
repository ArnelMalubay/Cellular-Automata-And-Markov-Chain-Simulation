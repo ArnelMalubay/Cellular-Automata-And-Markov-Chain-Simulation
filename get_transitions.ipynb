{
 "cells": [
  {
   "cell_type": "code",
   "execution_count": 1,
   "metadata": {},
   "outputs": [],
   "source": [
    "import numpy as np\n",
    "from scipy.linalg import logm, expm\n",
    "np.set_printoptions(suppress = True)"
   ]
  },
  {
   "cell_type": "code",
   "execution_count": 2,
   "metadata": {},
   "outputs": [],
   "source": [
    "# http://rsso02.psa.gov.ph/article/highlights-isabelas-population-count-2020-census-population-and-housing-2020-cph\n",
    "\n",
    "ilagan_growth_rate = 1.77"
   ]
  },
  {
   "attachments": {},
   "cell_type": "markdown",
   "metadata": {},
   "source": [
    "Mactan Island"
   ]
  },
  {
   "cell_type": "code",
   "execution_count": 3,
   "metadata": {},
   "outputs": [],
   "source": [
    "raw_T1_18 = np.array([[1617.75, 185.31, 1191.51, 12.51],\n",
    "                      [216.90, 154.62, 222.93, 10.44],\n",
    "                      [425.61, 152.64, 1461.69, 5.22],\n",
    "                      [130.59, 71.01, 101.61, 341.73]])"
   ]
  },
  {
   "cell_type": "code",
   "execution_count": 4,
   "metadata": {},
   "outputs": [
    {
     "data": {
      "text/plain": [
       "array([[0.53798037, 0.06162457, 0.39623489, 0.00416018],\n",
       "       [0.35857759, 0.25561672, 0.36854635, 0.01725934],\n",
       "       [0.20810597, 0.07463475, 0.71470692, 0.00255237],\n",
       "       [0.20248395, 0.11010327, 0.15754954, 0.52986324]])"
      ]
     },
     "execution_count": 4,
     "metadata": {},
     "output_type": "execute_result"
    }
   ],
   "source": [
    "T1_18 = raw_T1_18 / np.sum(raw_T1_18, axis = 1)[:, np.newaxis]\n",
    "T1_18"
   ]
  },
  {
   "cell_type": "code",
   "execution_count": 5,
   "metadata": {},
   "outputs": [
    {
     "data": {
      "text/plain": [
       "array([1., 1., 1., 1.])"
      ]
     },
     "execution_count": 5,
     "metadata": {},
     "output_type": "execute_result"
    }
   ],
   "source": [
    "np.sum(T1_18, axis = 1)"
   ]
  },
  {
   "cell_type": "code",
   "execution_count": 6,
   "metadata": {},
   "outputs": [
    {
     "data": {
      "text/plain": [
       "43"
      ]
     },
     "execution_count": 6,
     "metadata": {},
     "output_type": "execute_result"
    }
   ],
   "source": [
    "# https://psa.gov.ph/content/highlights-region-vii-central-visayas-population-2020-census-population-and-housing-2020-cph\n",
    "\n",
    "lapu_lapu_growth_rate = 4.26\n",
    "t1 = int((18 * lapu_lapu_growth_rate) / ilagan_growth_rate)\n",
    "t1"
   ]
  },
  {
   "cell_type": "code",
   "execution_count": 7,
   "metadata": {},
   "outputs": [
    {
     "data": {
      "text/plain": [
       "array([[0.98196915, 0.00252176, 0.01538722, 0.00012188],\n",
       "       [0.02068903, 0.96507367, 0.01322724, 0.00101006],\n",
       "       [0.00714225, 0.00369826, 0.9891441 , 0.0000154 ],\n",
       "       [0.00628236, 0.00615036, 0.00236204, 0.98520523]])"
      ]
     },
     "execution_count": 7,
     "metadata": {},
     "output_type": "execute_result"
    }
   ],
   "source": [
    "T1 = expm((logm(T1_18) / t1))\n",
    "T1"
   ]
  },
  {
   "cell_type": "code",
   "execution_count": 8,
   "metadata": {},
   "outputs": [
    {
     "data": {
      "text/plain": [
       "array([1., 1., 1., 1.])"
      ]
     },
     "execution_count": 8,
     "metadata": {},
     "output_type": "execute_result"
    }
   ],
   "source": [
    "np.sum(T1, axis = 1)"
   ]
  },
  {
   "cell_type": "code",
   "execution_count": 9,
   "metadata": {},
   "outputs": [
    {
     "data": {
      "text/plain": [
       "array([[0.53798037, 0.06162457, 0.39623489, 0.00416018],\n",
       "       [0.35857759, 0.25561672, 0.36854635, 0.01725934],\n",
       "       [0.20810597, 0.07463475, 0.71470692, 0.00255237],\n",
       "       [0.20248395, 0.11010327, 0.15754954, 0.52986324]])"
      ]
     },
     "execution_count": 9,
     "metadata": {},
     "output_type": "execute_result"
    }
   ],
   "source": [
    "np.linalg.matrix_power(T1, t1)"
   ]
  },
  {
   "cell_type": "code",
   "execution_count": 10,
   "metadata": {},
   "outputs": [],
   "source": [
    "np.save('Transitions/run1', T1)"
   ]
  },
  {
   "attachments": {},
   "cell_type": "markdown",
   "metadata": {},
   "source": [
    "Laguna de Bay"
   ]
  },
  {
   "cell_type": "code",
   "execution_count": 11,
   "metadata": {},
   "outputs": [],
   "source": [
    "T2_15 = np.array([[0.7417, 0.2372, 0.0211, 0.0000],\n",
    "                  [0.3118, 0.5745, 0.1137, 0.0000],\n",
    "                  [0.0000, 0.0000, 1.0000, 0.0000],\n",
    "                  [0.0000, 0.0000, 0.0000, 1.0000]])"
   ]
  },
  {
   "cell_type": "code",
   "execution_count": 12,
   "metadata": {},
   "outputs": [
    {
     "data": {
      "text/plain": [
       "array([1., 1., 1., 1.])"
      ]
     },
     "execution_count": 12,
     "metadata": {},
     "output_type": "execute_result"
    }
   ],
   "source": [
    "np.sum(T2_15, axis = 1)"
   ]
  },
  {
   "cell_type": "code",
   "execution_count": 13,
   "metadata": {},
   "outputs": [
    {
     "data": {
      "text/plain": [
       "19"
      ]
     },
     "execution_count": 13,
     "metadata": {},
     "output_type": "execute_result"
    }
   ],
   "source": [
    "# https://psa.gov.ph/content/highlights-region-iv-calabarzon-population-2020-census-population-and-housing-2020-cph\n",
    "\n",
    "laguna_growth_rate = 2.30\n",
    "t2 = int((15 * laguna_growth_rate) / ilagan_growth_rate)\n",
    "t2"
   ]
  },
  {
   "cell_type": "code",
   "execution_count": 14,
   "metadata": {},
   "outputs": [
    {
     "data": {
      "text/plain": [
       "array([[0.9801597 , 0.01975707, 0.00008323, 0.        ],\n",
       "       [0.02597071, 0.96623314, 0.00779615, 0.        ],\n",
       "       [0.        , 0.        , 1.        , 0.        ],\n",
       "       [0.        , 0.        , 0.        , 1.        ]])"
      ]
     },
     "execution_count": 14,
     "metadata": {},
     "output_type": "execute_result"
    }
   ],
   "source": [
    "T2 = expm((logm(T2_15) / t2))\n",
    "T2"
   ]
  },
  {
   "cell_type": "code",
   "execution_count": 15,
   "metadata": {},
   "outputs": [
    {
     "data": {
      "text/plain": [
       "array([1., 1., 1., 1.])"
      ]
     },
     "execution_count": 15,
     "metadata": {},
     "output_type": "execute_result"
    }
   ],
   "source": [
    "np.sum(T2, axis = 1)"
   ]
  },
  {
   "cell_type": "code",
   "execution_count": 16,
   "metadata": {},
   "outputs": [
    {
     "data": {
      "text/plain": [
       "array([[0.7417, 0.2372, 0.0211, 0.    ],\n",
       "       [0.3118, 0.5745, 0.1137, 0.    ],\n",
       "       [0.    , 0.    , 1.    , 0.    ],\n",
       "       [0.    , 0.    , 0.    , 1.    ]])"
      ]
     },
     "execution_count": 16,
     "metadata": {},
     "output_type": "execute_result"
    }
   ],
   "source": [
    "np.linalg.matrix_power(T2, t2)"
   ]
  },
  {
   "cell_type": "code",
   "execution_count": 17,
   "metadata": {},
   "outputs": [],
   "source": [
    "np.save('Transitions/run2.npy', T2)"
   ]
  },
  {
   "attachments": {},
   "cell_type": "markdown",
   "metadata": {},
   "source": [
    "Baroro Watershed"
   ]
  },
  {
   "cell_type": "code",
   "execution_count": 18,
   "metadata": {},
   "outputs": [],
   "source": [
    "T3_12 = np.array([[0.7594, 0.2298, 0.0108, 0.0000],\n",
    "                  [0.3526, 0.5758, 0.0716, 0.0000],\n",
    "                  [0.0000, 0.0000, 1.0000, 0.0000],\n",
    "                  [0.0000, 0.0000, 0.0000, 1.0000]])"
   ]
  },
  {
   "cell_type": "code",
   "execution_count": 19,
   "metadata": {},
   "outputs": [
    {
     "data": {
      "text/plain": [
       "array([1., 1., 1., 1.])"
      ]
     },
     "execution_count": 19,
     "metadata": {},
     "output_type": "execute_result"
    }
   ],
   "source": [
    "np.sum(T3_12, axis = 1)"
   ]
  },
  {
   "cell_type": "code",
   "execution_count": 20,
   "metadata": {},
   "outputs": [
    {
     "data": {
      "text/plain": [
       "6"
      ]
     },
     "execution_count": 20,
     "metadata": {},
     "output_type": "execute_result"
    }
   ],
   "source": [
    "# https://psa.gov.ph/content/highlights-region-i-ilocos-region-population-2020-census-population-and-housing-2020-cph\n",
    "\n",
    "la_union_growth_rate = 0.94\n",
    "t3 = int((12 * la_union_growth_rate) / ilagan_growth_rate)\n",
    "t3"
   ]
  },
  {
   "cell_type": "code",
   "execution_count": 21,
   "metadata": {},
   "outputs": [
    {
     "data": {
      "text/plain": [
       "array([[0.94320516, 0.05672058, 0.00007426, 0.        ],\n",
       "       [0.0870308 , 0.89788793, 0.01508127, 0.        ],\n",
       "       [0.        , 0.        , 1.        , 0.        ],\n",
       "       [0.        , 0.        , 0.        , 1.        ]])"
      ]
     },
     "execution_count": 21,
     "metadata": {},
     "output_type": "execute_result"
    }
   ],
   "source": [
    "T3 = expm((logm(T3_12) / t3))\n",
    "T3"
   ]
  },
  {
   "cell_type": "code",
   "execution_count": 22,
   "metadata": {},
   "outputs": [
    {
     "data": {
      "text/plain": [
       "array([1., 1., 1., 1.])"
      ]
     },
     "execution_count": 22,
     "metadata": {},
     "output_type": "execute_result"
    }
   ],
   "source": [
    "np.sum(T3, axis = 1)"
   ]
  },
  {
   "cell_type": "code",
   "execution_count": 23,
   "metadata": {},
   "outputs": [
    {
     "data": {
      "text/plain": [
       "array([[0.7594, 0.2298, 0.0108, 0.    ],\n",
       "       [0.3526, 0.5758, 0.0716, 0.    ],\n",
       "       [0.    , 0.    , 1.    , 0.    ],\n",
       "       [0.    , 0.    , 0.    , 1.    ]])"
      ]
     },
     "execution_count": 23,
     "metadata": {},
     "output_type": "execute_result"
    }
   ],
   "source": [
    "np.linalg.matrix_power(T3, t3)"
   ]
  },
  {
   "cell_type": "code",
   "execution_count": 24,
   "metadata": {},
   "outputs": [],
   "source": [
    "np.save('Transitions/run3', T3)"
   ]
  }
 ],
 "metadata": {
  "kernelspec": {
   "display_name": "compsim_env",
   "language": "python",
   "name": "python3"
  },
  "language_info": {
   "codemirror_mode": {
    "name": "ipython",
    "version": 3
   },
   "file_extension": ".py",
   "mimetype": "text/x-python",
   "name": "python",
   "nbconvert_exporter": "python",
   "pygments_lexer": "ipython3",
   "version": "3.9.11"
  },
  "orig_nbformat": 4
 },
 "nbformat": 4,
 "nbformat_minor": 2
}
